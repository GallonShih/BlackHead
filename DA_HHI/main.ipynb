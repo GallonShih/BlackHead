{
 "cells": [
  {
   "cell_type": "markdown",
   "metadata": {},
   "source": [
    "#### <font color=#FF6600> **1. Import relative packages** <font>"
   ]
  },
  {
   "cell_type": "code",
   "execution_count": 1,
   "metadata": {},
   "outputs": [],
   "source": [
    "import numpy as np\n",
    "import pandas as pd"
   ]
  },
  {
   "cell_type": "markdown",
   "metadata": {},
   "source": [
    "#### <font color=#FF6600> **2. Read data** <font>"
   ]
  },
  {
   "cell_type": "code",
   "execution_count": 54,
   "metadata": {},
   "outputs": [
    {
     "data": {
      "text/html": [
       "<div>\n",
       "<style scoped>\n",
       "    .dataframe tbody tr th:only-of-type {\n",
       "        vertical-align: middle;\n",
       "    }\n",
       "\n",
       "    .dataframe tbody tr th {\n",
       "        vertical-align: top;\n",
       "    }\n",
       "\n",
       "    .dataframe thead th {\n",
       "        text-align: right;\n",
       "    }\n",
       "</style>\n",
       "<table border=\"1\" class=\"dataframe\">\n",
       "  <thead>\n",
       "    <tr style=\"text-align: right;\">\n",
       "      <th></th>\n",
       "      <th>Unnamed: 0</th>\n",
       "      <th>Date</th>\n",
       "      <th>Customer_ID</th>\n",
       "      <th>Transaction_ID</th>\n",
       "      <th>SKU_Category</th>\n",
       "      <th>SKU</th>\n",
       "      <th>Quantity</th>\n",
       "      <th>Sales_Amount</th>\n",
       "    </tr>\n",
       "  </thead>\n",
       "  <tbody>\n",
       "    <tr>\n",
       "      <th>0</th>\n",
       "      <td>1</td>\n",
       "      <td>02/01/2016</td>\n",
       "      <td>2547</td>\n",
       "      <td>1</td>\n",
       "      <td>X52</td>\n",
       "      <td>0EM7L</td>\n",
       "      <td>1.0</td>\n",
       "      <td>3.13</td>\n",
       "    </tr>\n",
       "    <tr>\n",
       "      <th>1</th>\n",
       "      <td>2</td>\n",
       "      <td>02/01/2016</td>\n",
       "      <td>822</td>\n",
       "      <td>2</td>\n",
       "      <td>2ML</td>\n",
       "      <td>68BRQ</td>\n",
       "      <td>1.0</td>\n",
       "      <td>5.46</td>\n",
       "    </tr>\n",
       "    <tr>\n",
       "      <th>2</th>\n",
       "      <td>3</td>\n",
       "      <td>02/01/2016</td>\n",
       "      <td>3686</td>\n",
       "      <td>3</td>\n",
       "      <td>0H2</td>\n",
       "      <td>CZUZX</td>\n",
       "      <td>1.0</td>\n",
       "      <td>6.35</td>\n",
       "    </tr>\n",
       "    <tr>\n",
       "      <th>3</th>\n",
       "      <td>4</td>\n",
       "      <td>02/01/2016</td>\n",
       "      <td>3719</td>\n",
       "      <td>4</td>\n",
       "      <td>0H2</td>\n",
       "      <td>549KK</td>\n",
       "      <td>1.0</td>\n",
       "      <td>5.59</td>\n",
       "    </tr>\n",
       "    <tr>\n",
       "      <th>4</th>\n",
       "      <td>5</td>\n",
       "      <td>02/01/2016</td>\n",
       "      <td>9200</td>\n",
       "      <td>5</td>\n",
       "      <td>0H2</td>\n",
       "      <td>K8EHH</td>\n",
       "      <td>1.0</td>\n",
       "      <td>6.88</td>\n",
       "    </tr>\n",
       "  </tbody>\n",
       "</table>\n",
       "</div>"
      ],
      "text/plain": [
       "   Unnamed: 0        Date Customer_ID  Transaction_ID SKU_Category    SKU  \\\n",
       "0           1  02/01/2016        2547               1          X52  0EM7L   \n",
       "1           2  02/01/2016         822               2          2ML  68BRQ   \n",
       "2           3  02/01/2016        3686               3          0H2  CZUZX   \n",
       "3           4  02/01/2016        3719               4          0H2  549KK   \n",
       "4           5  02/01/2016        9200               5          0H2  K8EHH   \n",
       "\n",
       "   Quantity  Sales_Amount  \n",
       "0       1.0          3.13  \n",
       "1       1.0          5.46  \n",
       "2       1.0          6.35  \n",
       "3       1.0          5.59  \n",
       "4       1.0          6.88  "
      ]
     },
     "execution_count": 54,
     "metadata": {},
     "output_type": "execute_result"
    }
   ],
   "source": [
    "# 資料來源: https://www.kaggle.com/code/tzulingli/rmf-analysis-and-k-means-clustering/data\n",
    "df = pd.read_csv('./data/scanner_data.csv', dtype={'Customer_ID': 'str'})\n",
    "df.head()"
   ]
  },
  {
   "cell_type": "code",
   "execution_count": 55,
   "metadata": {},
   "outputs": [
    {
     "name": "stdout",
     "output_type": "stream",
     "text": [
      "\n",
      "    The shape of the dataset is: (131706, 8).\n",
      "    There are 22,625 unique customers\n",
      "    and 5,242 unique skus in 187 unique categories.\n",
      "\n"
     ]
    }
   ],
   "source": [
    "print(f\"\"\"\n",
    "    The shape of the dataset is: {df.shape}.\n",
    "    There are {df.Customer_ID.nunique():,} unique customers\n",
    "    and {df.SKU.nunique():,} unique skus in {df.SKU_Category.nunique():,} unique categories.\n",
    "\"\"\")"
   ]
  },
  {
   "cell_type": "markdown",
   "metadata": {},
   "source": [
    "#### <font color=#FF6600> **3. Define Diversity function** <font>"
   ]
  },
  {
   "cell_type": "code",
   "execution_count": 60,
   "metadata": {},
   "outputs": [],
   "source": [
    "def diversity_cal(data, index_col, cat_col, target_col):\n",
    "    \"\"\"\n",
    "    :param data: input dataframe including index_col, cat_col, target_col\n",
    "    :param index_col: customer id column\n",
    "    :param cat_col: category id column\n",
    "    :param target_col: the column that you want to sum to calculate diversity\n",
    "    :return df_diversity: diversity data that including index_col & diversity\n",
    "    \"\"\"\n",
    "    def hhi(series):\n",
    "        return np.square(series/series.sum()).sum() * 10000\n",
    "    df_sum_by_cat = data.groupby([index_col, cat_col],\n",
    "                            as_index=False,\n",
    "                            sort=False)[target_col].agg({'sum_by_cat': 'sum'})\n",
    "    df_diversity = df_sum_by_cat.groupby([index_col]).agg({'sum_by_cat': hhi}).reset_index()\n",
    "    df_diversity['diversity'] = 10000 - df_diversity.sum_by_cat\n",
    "    df_diversity.drop(columns=['sum_by_cat'], inplace=True)\n",
    "    return df_diversity"
   ]
  },
  {
   "cell_type": "markdown",
   "metadata": {},
   "source": [
    "#### <font color=#FF6600> **4. Calculate Diversity Index** <font>"
   ]
  },
  {
   "cell_type": "code",
   "execution_count": 61,
   "metadata": {},
   "outputs": [],
   "source": [
    "df_diversity = diversity_cal(data=df,\n",
    "                            index_col='Customer_ID',\n",
    "                            cat_col='SKU_Category',\n",
    "                            target_col='Sales_Amount')"
   ]
  },
  {
   "cell_type": "code",
   "execution_count": 62,
   "metadata": {},
   "outputs": [
    {
     "data": {
      "text/html": [
       "<div>\n",
       "<style scoped>\n",
       "    .dataframe tbody tr th:only-of-type {\n",
       "        vertical-align: middle;\n",
       "    }\n",
       "\n",
       "    .dataframe tbody tr th {\n",
       "        vertical-align: top;\n",
       "    }\n",
       "\n",
       "    .dataframe thead th {\n",
       "        text-align: right;\n",
       "    }\n",
       "</style>\n",
       "<table border=\"1\" class=\"dataframe\">\n",
       "  <thead>\n",
       "    <tr style=\"text-align: right;\">\n",
       "      <th></th>\n",
       "      <th>Customer_ID</th>\n",
       "      <th>diversity</th>\n",
       "    </tr>\n",
       "  </thead>\n",
       "  <tbody>\n",
       "    <tr>\n",
       "      <th>0</th>\n",
       "      <td>1</td>\n",
       "      <td>4582.006383</td>\n",
       "    </tr>\n",
       "    <tr>\n",
       "      <th>1</th>\n",
       "      <td>10</td>\n",
       "      <td>0.000000</td>\n",
       "    </tr>\n",
       "    <tr>\n",
       "      <th>2</th>\n",
       "      <td>100</td>\n",
       "      <td>4642.682090</td>\n",
       "    </tr>\n",
       "    <tr>\n",
       "      <th>3</th>\n",
       "      <td>1000</td>\n",
       "      <td>0.000000</td>\n",
       "    </tr>\n",
       "    <tr>\n",
       "      <th>4</th>\n",
       "      <td>10000</td>\n",
       "      <td>6269.218434</td>\n",
       "    </tr>\n",
       "  </tbody>\n",
       "</table>\n",
       "</div>"
      ],
      "text/plain": [
       "  Customer_ID    diversity\n",
       "0           1  4582.006383\n",
       "1          10     0.000000\n",
       "2         100  4642.682090\n",
       "3        1000     0.000000\n",
       "4       10000  6269.218434"
      ]
     },
     "execution_count": 62,
     "metadata": {},
     "output_type": "execute_result"
    }
   ],
   "source": [
    "df_diversity.head()"
   ]
  }
 ],
 "metadata": {
  "kernelspec": {
   "display_name": "Python 3.7.6 ('base')",
   "language": "python",
   "name": "python3"
  },
  "language_info": {
   "codemirror_mode": {
    "name": "ipython",
    "version": 3
   },
   "file_extension": ".py",
   "mimetype": "text/x-python",
   "name": "python",
   "nbconvert_exporter": "python",
   "pygments_lexer": "ipython3",
   "version": "3.7.6"
  },
  "orig_nbformat": 4,
  "vscode": {
   "interpreter": {
    "hash": "ad2bdc8ecc057115af97d19610ffacc2b4e99fae6737bb82f5d7fb13d2f2c186"
   }
  }
 },
 "nbformat": 4,
 "nbformat_minor": 2
}
